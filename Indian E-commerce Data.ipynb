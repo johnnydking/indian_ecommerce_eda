{
 "cells": [
  {
   "cell_type": "markdown",
   "metadata": {},
   "source": [
    "# Indian E-Commerce Data\n",
    "\n",
    "This project utilizes a basic dataset from an anonymous e-commerce company located in India. Three csv files are combined into a three table database file using DB Browser for SQLite. SQL queries are run in Jupyter via ipython-sql and query results are saved as variables for further analysis and visualization."
   ]
  },
  {
   "cell_type": "code",
   "execution_count": 1,
   "metadata": {},
   "outputs": [],
   "source": [
    "import numpy as np\n",
    "import pandas as pd\n",
    "import matplotlib.pyplot as plt\n",
    "import seaborn as sb\n",
    "import sqlite3 as sql"
   ]
  },
  {
   "cell_type": "markdown",
   "metadata": {},
   "source": [
    "## Data Cleaning\n",
    "\n",
    "Before I create the database file that I'll use in this project, I need do some cleaning operations. Two of the csv files included in the dataset contain date information that is not in the correct format for use in SQLite queries. I need to change the date formats so that I can utilize SQLite's strftime function. The date formats need to look like this: YYYY-MM-DD"
   ]
  },
  {
   "cell_type": "code",
   "execution_count": 2,
   "metadata": {},
   "outputs": [],
   "source": [
    "df = pd.read_csv('List of Orders.csv')"
   ]
  },
  {
   "cell_type": "code",
   "execution_count": 3,
   "metadata": {},
   "outputs": [
    {
     "data": {
      "text/html": [
       "<div>\n",
       "<style scoped>\n",
       "    .dataframe tbody tr th:only-of-type {\n",
       "        vertical-align: middle;\n",
       "    }\n",
       "\n",
       "    .dataframe tbody tr th {\n",
       "        vertical-align: top;\n",
       "    }\n",
       "\n",
       "    .dataframe thead th {\n",
       "        text-align: right;\n",
       "    }\n",
       "</style>\n",
       "<table border=\"1\" class=\"dataframe\">\n",
       "  <thead>\n",
       "    <tr style=\"text-align: right;\">\n",
       "      <th></th>\n",
       "      <th>Order ID</th>\n",
       "      <th>Order Date</th>\n",
       "      <th>CustomerName</th>\n",
       "      <th>State</th>\n",
       "      <th>City</th>\n",
       "    </tr>\n",
       "  </thead>\n",
       "  <tbody>\n",
       "    <tr>\n",
       "      <th>0</th>\n",
       "      <td>B-25601</td>\n",
       "      <td>01-04-2018</td>\n",
       "      <td>Bharat</td>\n",
       "      <td>Gujarat</td>\n",
       "      <td>Ahmedabad</td>\n",
       "    </tr>\n",
       "    <tr>\n",
       "      <th>1</th>\n",
       "      <td>B-25602</td>\n",
       "      <td>01-04-2018</td>\n",
       "      <td>Pearl</td>\n",
       "      <td>Maharashtra</td>\n",
       "      <td>Pune</td>\n",
       "    </tr>\n",
       "    <tr>\n",
       "      <th>2</th>\n",
       "      <td>B-25603</td>\n",
       "      <td>03-04-2018</td>\n",
       "      <td>Jahan</td>\n",
       "      <td>Madhya Pradesh</td>\n",
       "      <td>Bhopal</td>\n",
       "    </tr>\n",
       "    <tr>\n",
       "      <th>3</th>\n",
       "      <td>B-25604</td>\n",
       "      <td>03-04-2018</td>\n",
       "      <td>Divsha</td>\n",
       "      <td>Rajasthan</td>\n",
       "      <td>Jaipur</td>\n",
       "    </tr>\n",
       "    <tr>\n",
       "      <th>4</th>\n",
       "      <td>B-25605</td>\n",
       "      <td>05-04-2018</td>\n",
       "      <td>Kasheen</td>\n",
       "      <td>West Bengal</td>\n",
       "      <td>Kolkata</td>\n",
       "    </tr>\n",
       "  </tbody>\n",
       "</table>\n",
       "</div>"
      ],
      "text/plain": [
       "  Order ID  Order Date CustomerName           State       City\n",
       "0  B-25601  01-04-2018       Bharat         Gujarat  Ahmedabad\n",
       "1  B-25602  01-04-2018        Pearl     Maharashtra       Pune\n",
       "2  B-25603  03-04-2018        Jahan  Madhya Pradesh     Bhopal\n",
       "3  B-25604  03-04-2018       Divsha       Rajasthan     Jaipur\n",
       "4  B-25605  05-04-2018      Kasheen     West Bengal    Kolkata"
      ]
     },
     "execution_count": 3,
     "metadata": {},
     "output_type": "execute_result"
    }
   ],
   "source": [
    "df.head()"
   ]
  },
  {
   "cell_type": "code",
   "execution_count": 4,
   "metadata": {},
   "outputs": [],
   "source": [
    "df['Order Date'] = df['Order Date'].str[-4:] + \"-\" + df['Order Date'].str[3:5] + \"-\" + df['Order Date'].str[:2]"
   ]
  },
  {
   "cell_type": "code",
   "execution_count": 5,
   "metadata": {},
   "outputs": [
    {
     "data": {
      "text/html": [
       "<div>\n",
       "<style scoped>\n",
       "    .dataframe tbody tr th:only-of-type {\n",
       "        vertical-align: middle;\n",
       "    }\n",
       "\n",
       "    .dataframe tbody tr th {\n",
       "        vertical-align: top;\n",
       "    }\n",
       "\n",
       "    .dataframe thead th {\n",
       "        text-align: right;\n",
       "    }\n",
       "</style>\n",
       "<table border=\"1\" class=\"dataframe\">\n",
       "  <thead>\n",
       "    <tr style=\"text-align: right;\">\n",
       "      <th></th>\n",
       "      <th>Order ID</th>\n",
       "      <th>Order Date</th>\n",
       "      <th>CustomerName</th>\n",
       "      <th>State</th>\n",
       "      <th>City</th>\n",
       "    </tr>\n",
       "  </thead>\n",
       "  <tbody>\n",
       "    <tr>\n",
       "      <th>0</th>\n",
       "      <td>B-25601</td>\n",
       "      <td>2018-04-01</td>\n",
       "      <td>Bharat</td>\n",
       "      <td>Gujarat</td>\n",
       "      <td>Ahmedabad</td>\n",
       "    </tr>\n",
       "    <tr>\n",
       "      <th>1</th>\n",
       "      <td>B-25602</td>\n",
       "      <td>2018-04-01</td>\n",
       "      <td>Pearl</td>\n",
       "      <td>Maharashtra</td>\n",
       "      <td>Pune</td>\n",
       "    </tr>\n",
       "    <tr>\n",
       "      <th>2</th>\n",
       "      <td>B-25603</td>\n",
       "      <td>2018-04-03</td>\n",
       "      <td>Jahan</td>\n",
       "      <td>Madhya Pradesh</td>\n",
       "      <td>Bhopal</td>\n",
       "    </tr>\n",
       "    <tr>\n",
       "      <th>3</th>\n",
       "      <td>B-25604</td>\n",
       "      <td>2018-04-03</td>\n",
       "      <td>Divsha</td>\n",
       "      <td>Rajasthan</td>\n",
       "      <td>Jaipur</td>\n",
       "    </tr>\n",
       "    <tr>\n",
       "      <th>4</th>\n",
       "      <td>B-25605</td>\n",
       "      <td>2018-04-05</td>\n",
       "      <td>Kasheen</td>\n",
       "      <td>West Bengal</td>\n",
       "      <td>Kolkata</td>\n",
       "    </tr>\n",
       "  </tbody>\n",
       "</table>\n",
       "</div>"
      ],
      "text/plain": [
       "  Order ID  Order Date CustomerName           State       City\n",
       "0  B-25601  2018-04-01       Bharat         Gujarat  Ahmedabad\n",
       "1  B-25602  2018-04-01        Pearl     Maharashtra       Pune\n",
       "2  B-25603  2018-04-03        Jahan  Madhya Pradesh     Bhopal\n",
       "3  B-25604  2018-04-03       Divsha       Rajasthan     Jaipur\n",
       "4  B-25605  2018-04-05      Kasheen     West Bengal    Kolkata"
      ]
     },
     "execution_count": 5,
     "metadata": {},
     "output_type": "execute_result"
    }
   ],
   "source": [
    "df.head()"
   ]
  },
  {
   "cell_type": "code",
   "execution_count": 6,
   "metadata": {},
   "outputs": [],
   "source": [
    "df.to_csv('list_of_orders_clean.csv', index = False)"
   ]
  },
  {
   "cell_type": "code",
   "execution_count": 7,
   "metadata": {},
   "outputs": [],
   "source": [
    "targets = pd.read_csv('Sales target.csv')"
   ]
  },
  {
   "cell_type": "code",
   "execution_count": 8,
   "metadata": {},
   "outputs": [
    {
     "data": {
      "text/html": [
       "<div>\n",
       "<style scoped>\n",
       "    .dataframe tbody tr th:only-of-type {\n",
       "        vertical-align: middle;\n",
       "    }\n",
       "\n",
       "    .dataframe tbody tr th {\n",
       "        vertical-align: top;\n",
       "    }\n",
       "\n",
       "    .dataframe thead th {\n",
       "        text-align: right;\n",
       "    }\n",
       "</style>\n",
       "<table border=\"1\" class=\"dataframe\">\n",
       "  <thead>\n",
       "    <tr style=\"text-align: right;\">\n",
       "      <th></th>\n",
       "      <th>Month of Order Date</th>\n",
       "      <th>Category</th>\n",
       "      <th>Target</th>\n",
       "    </tr>\n",
       "  </thead>\n",
       "  <tbody>\n",
       "    <tr>\n",
       "      <th>0</th>\n",
       "      <td>Apr-18</td>\n",
       "      <td>Furniture</td>\n",
       "      <td>10400.0</td>\n",
       "    </tr>\n",
       "    <tr>\n",
       "      <th>1</th>\n",
       "      <td>May-18</td>\n",
       "      <td>Furniture</td>\n",
       "      <td>10500.0</td>\n",
       "    </tr>\n",
       "    <tr>\n",
       "      <th>2</th>\n",
       "      <td>Jun-18</td>\n",
       "      <td>Furniture</td>\n",
       "      <td>10600.0</td>\n",
       "    </tr>\n",
       "    <tr>\n",
       "      <th>3</th>\n",
       "      <td>Jul-18</td>\n",
       "      <td>Furniture</td>\n",
       "      <td>10800.0</td>\n",
       "    </tr>\n",
       "    <tr>\n",
       "      <th>4</th>\n",
       "      <td>Aug-18</td>\n",
       "      <td>Furniture</td>\n",
       "      <td>10900.0</td>\n",
       "    </tr>\n",
       "  </tbody>\n",
       "</table>\n",
       "</div>"
      ],
      "text/plain": [
       "  Month of Order Date   Category   Target\n",
       "0              Apr-18  Furniture  10400.0\n",
       "1              May-18  Furniture  10500.0\n",
       "2              Jun-18  Furniture  10600.0\n",
       "3              Jul-18  Furniture  10800.0\n",
       "4              Aug-18  Furniture  10900.0"
      ]
     },
     "execution_count": 8,
     "metadata": {},
     "output_type": "execute_result"
    }
   ],
   "source": [
    "targets.head()"
   ]
  },
  {
   "cell_type": "code",
   "execution_count": 9,
   "metadata": {},
   "outputs": [],
   "source": [
    "months = {'Jan':'01',\n",
    "         'Feb':'02',\n",
    "         'Mar':'03',\n",
    "         'Apr':'04',\n",
    "         'May':'05',\n",
    "         'Jun':'06',\n",
    "         'Jul':'07',\n",
    "         'Aug':'08',\n",
    "         'Sep':'09',\n",
    "         'Oct':'10',\n",
    "         'Nov':'11',\n",
    "         'Dec':'12'}"
   ]
  },
  {
   "cell_type": "code",
   "execution_count": 10,
   "metadata": {},
   "outputs": [],
   "source": [
    "targets['Month of Order Date'] = targets['Month of Order Date'].replace(months, regex=True)"
   ]
  },
  {
   "cell_type": "code",
   "execution_count": 11,
   "metadata": {},
   "outputs": [],
   "source": [
    "targets['Month of Order Date'] = \"20\" + targets['Month of Order Date'].str[-2:] + \"-\" + targets['Month of Order Date'].str[:3] + \"01\""
   ]
  },
  {
   "cell_type": "code",
   "execution_count": 12,
   "metadata": {
    "scrolled": true
   },
   "outputs": [
    {
     "data": {
      "text/html": [
       "<div>\n",
       "<style scoped>\n",
       "    .dataframe tbody tr th:only-of-type {\n",
       "        vertical-align: middle;\n",
       "    }\n",
       "\n",
       "    .dataframe tbody tr th {\n",
       "        vertical-align: top;\n",
       "    }\n",
       "\n",
       "    .dataframe thead th {\n",
       "        text-align: right;\n",
       "    }\n",
       "</style>\n",
       "<table border=\"1\" class=\"dataframe\">\n",
       "  <thead>\n",
       "    <tr style=\"text-align: right;\">\n",
       "      <th></th>\n",
       "      <th>Month of Order Date</th>\n",
       "      <th>Category</th>\n",
       "      <th>Target</th>\n",
       "    </tr>\n",
       "  </thead>\n",
       "  <tbody>\n",
       "    <tr>\n",
       "      <th>0</th>\n",
       "      <td>2018-04-01</td>\n",
       "      <td>Furniture</td>\n",
       "      <td>10400.0</td>\n",
       "    </tr>\n",
       "    <tr>\n",
       "      <th>1</th>\n",
       "      <td>2018-05-01</td>\n",
       "      <td>Furniture</td>\n",
       "      <td>10500.0</td>\n",
       "    </tr>\n",
       "    <tr>\n",
       "      <th>2</th>\n",
       "      <td>2018-06-01</td>\n",
       "      <td>Furniture</td>\n",
       "      <td>10600.0</td>\n",
       "    </tr>\n",
       "    <tr>\n",
       "      <th>3</th>\n",
       "      <td>2018-07-01</td>\n",
       "      <td>Furniture</td>\n",
       "      <td>10800.0</td>\n",
       "    </tr>\n",
       "    <tr>\n",
       "      <th>4</th>\n",
       "      <td>2018-08-01</td>\n",
       "      <td>Furniture</td>\n",
       "      <td>10900.0</td>\n",
       "    </tr>\n",
       "  </tbody>\n",
       "</table>\n",
       "</div>"
      ],
      "text/plain": [
       "  Month of Order Date   Category   Target\n",
       "0          2018-04-01  Furniture  10400.0\n",
       "1          2018-05-01  Furniture  10500.0\n",
       "2          2018-06-01  Furniture  10600.0\n",
       "3          2018-07-01  Furniture  10800.0\n",
       "4          2018-08-01  Furniture  10900.0"
      ]
     },
     "execution_count": 12,
     "metadata": {},
     "output_type": "execute_result"
    }
   ],
   "source": [
    "targets.head()"
   ]
  },
  {
   "cell_type": "code",
   "execution_count": 13,
   "metadata": {},
   "outputs": [],
   "source": [
    "targets.to_csv('sales_target_clean.csv', index=False)"
   ]
  },
  {
   "cell_type": "markdown",
   "metadata": {},
   "source": [
    "## Create Database and Connect to Database File\n",
    "\n",
    "Now that I have the date formats ready for SQLite, the csv files are combined into a database file externally using DB Browser for SQLite, and I can load SQL into the notebook and connect to the database file I've created"
   ]
  },
  {
   "cell_type": "code",
   "execution_count": 14,
   "metadata": {},
   "outputs": [],
   "source": [
    "%load_ext sql"
   ]
  },
  {
   "cell_type": "code",
   "execution_count": 15,
   "metadata": {},
   "outputs": [],
   "source": [
    "%sql sqlite:////users/john/desktop/indian_ecommerce_data/list_of_orders.db"
   ]
  },
  {
   "attachments": {
    "Indian%20ecommerce%20ERD.jpg": {
     "image/jpeg": "[encoded data removed]"
    }
   },
   "cell_type": "markdown",
   "metadata": {},
   "source": [
    "![Indian%20ecommerce%20ERD.jpg](attachment:Indian%20ecommerce%20ERD.jpg)"
   ]
  },
  {
   "cell_type": "markdown",
   "metadata": {},
   "source": [
    "**What is the average order total?**"
   ]
  },
  {
   "cell_type": "code",
   "execution_count": 16,
   "metadata": {
    "scrolled": false
   },
   "outputs": [
    {
     "name": "stdout",
     "output_type": "stream",
     "text": [
      " * sqlite:////users/john/desktop/indian_ecommerce_data/list_of_orders.db\n",
      "Done.\n"
     ]
    },
    {
     "data": {
      "text/html": [
       "<table>\n",
       "    <tr>\n",
       "        <th>avg_order</th>\n",
       "    </tr>\n",
       "    <tr>\n",
       "        <td>863.004</td>\n",
       "    </tr>\n",
       "</table>"
      ],
      "text/plain": [
       "[(863.004,)]"
      ]
     },
     "execution_count": 16,
     "metadata": {},
     "output_type": "execute_result"
    }
   ],
   "source": [
    "%%sql\n",
    "\n",
    "SELECT avg(order_total) as avg_order\n",
    "FROM\n",
    "    (SELECT SUM(amount) as order_total\n",
    "    FROM details\n",
    "    GROUP BY OrderID)sub;"
   ]
  },
  {
   "cell_type": "markdown",
   "metadata": {},
   "source": [
    "**How many orders per month on average?**"
   ]
  },
  {
   "cell_type": "code",
   "execution_count": 17,
   "metadata": {},
   "outputs": [
    {
     "name": "stdout",
     "output_type": "stream",
     "text": [
      " * sqlite:////users/john/desktop/indian_ecommerce_data/list_of_orders.db\n",
      "Done.\n"
     ]
    },
    {
     "data": {
      "text/html": [
       "<table>\n",
       "    <tr>\n",
       "        <th>avg_orders_per_month</th>\n",
       "    </tr>\n",
       "    <tr>\n",
       "        <td>38.46153846153846</td>\n",
       "    </tr>\n",
       "</table>"
      ],
      "text/plain": [
       "[(38.46153846153846,)]"
      ]
     },
     "execution_count": 17,
     "metadata": {},
     "output_type": "execute_result"
    }
   ],
   "source": [
    "%%sql\n",
    "\n",
    "SELECT AVG(order_count) as avg_orders_per_month\n",
    "FROM\n",
    "    (SELECT DISTINCT(COUNT(OrderID)) as order_count, strftime(\"%Y-%m\", OrderDate) as date_month\n",
    "    FROM orders\n",
    "    GROUP BY strftime(\"%Y-%m\", OrderDate))sub;"
   ]
  },
  {
   "cell_type": "markdown",
   "metadata": {},
   "source": [
    "**What is the company's overall margin?**"
   ]
  },
  {
   "cell_type": "code",
   "execution_count": 18,
   "metadata": {},
   "outputs": [
    {
     "name": "stdout",
     "output_type": "stream",
     "text": [
      " * sqlite:////users/john/desktop/indian_ecommerce_data/list_of_orders.db\n",
      "Done.\n"
     ]
    },
    {
     "data": {
      "text/html": [
       "<table>\n",
       "    <tr>\n",
       "        <th>margin</th>\n",
       "    </tr>\n",
       "    <tr>\n",
       "        <td>5.551538579195461</td>\n",
       "    </tr>\n",
       "</table>"
      ],
      "text/plain": [
       "[(5.551538579195461,)]"
      ]
     },
     "execution_count": 18,
     "metadata": {},
     "output_type": "execute_result"
    }
   ],
   "source": [
    "%%sql\n",
    "\n",
    "SELECT (profit / revenue) * 100 as margin\n",
    "FROM\n",
    "    (SELECT SUM(Amount) as revenue, SUM(Profit) as profit\n",
    "    FROM details) sub;"
   ]
  },
  {
   "cell_type": "markdown",
   "metadata": {},
   "source": [
    "This is a very low profit margin. I'll review margin by category to see if this might provide any insight on why margins are so low."
   ]
  },
  {
   "cell_type": "markdown",
   "metadata": {},
   "source": [
    "**What is the company's margin by category?**"
   ]
  },
  {
   "cell_type": "code",
   "execution_count": 19,
   "metadata": {
    "scrolled": true
   },
   "outputs": [
    {
     "name": "stdout",
     "output_type": "stream",
     "text": [
      " * sqlite:////users/john/desktop/indian_ecommerce_data/list_of_orders.db\n",
      "Done.\n"
     ]
    },
    {
     "data": {
      "text/html": [
       "<table>\n",
       "    <tr>\n",
       "        <th>category</th>\n",
       "        <th>margin</th>\n",
       "    </tr>\n",
       "    <tr>\n",
       "        <td>Clothing</td>\n",
       "        <td>8.027816531707106</td>\n",
       "    </tr>\n",
       "    <tr>\n",
       "        <td>Electronics</td>\n",
       "        <td>6.349724990469967</td>\n",
       "    </tr>\n",
       "    <tr>\n",
       "        <td>Furniture</td>\n",
       "        <td>1.8068736682366076</td>\n",
       "    </tr>\n",
       "</table>"
      ],
      "text/plain": [
       "[('Clothing', 8.027816531707106),\n",
       " ('Electronics', 6.349724990469967),\n",
       " ('Furniture', 1.8068736682366076)]"
      ]
     },
     "execution_count": 19,
     "metadata": {},
     "output_type": "execute_result"
    }
   ],
   "source": [
    "%%sql\n",
    "\n",
    "SELECT category as category, (profit / revenue) * 100 as margin\n",
    "FROM\n",
    "    (SELECT category as category, SUM(Amount) as revenue, SUM(Profit) as profit\n",
    "    FROM details\n",
    "    GROUP BY category)sub;"
   ]
  },
  {
   "cell_type": "markdown",
   "metadata": {},
   "source": [
    "We see that the furniture category has the lowest margin. I'll review the sub-categories in detail to gain more insight."
   ]
  },
  {
   "cell_type": "markdown",
   "metadata": {},
   "source": [
    "**What is the margin and proportion of each sub-category?**"
   ]
  },
  {
   "cell_type": "code",
   "execution_count": 20,
   "metadata": {
    "scrolled": false
   },
   "outputs": [
    {
     "name": "stdout",
     "output_type": "stream",
     "text": [
      " * sqlite:////users/john/desktop/indian_ecommerce_data/list_of_orders.db\n",
      "Done.\n"
     ]
    },
    {
     "data": {
      "text/html": [
       "<table>\n",
       "    <tr>\n",
       "        <th>sub_category</th>\n",
       "        <th>sales</th>\n",
       "        <th>margin</th>\n",
       "        <th>proportion_of_sales</th>\n",
       "    </tr>\n",
       "    <tr>\n",
       "        <td>Accessories</td>\n",
       "        <td>21728.0</td>\n",
       "        <td>16.37978645066274</td>\n",
       "        <td>5.035434366468753</td>\n",
       "    </tr>\n",
       "    <tr>\n",
       "        <td>Bookcases</td>\n",
       "        <td>56861.0</td>\n",
       "        <td>8.596401751639963</td>\n",
       "        <td>13.177459200652605</td>\n",
       "    </tr>\n",
       "    <tr>\n",
       "        <td>Chairs</td>\n",
       "        <td>34222.0</td>\n",
       "        <td>1.6860499094149963</td>\n",
       "        <td>7.93090182664275</td>\n",
       "    </tr>\n",
       "    <tr>\n",
       "        <td>Electronic Games</td>\n",
       "        <td>39168.0</td>\n",
       "        <td>-3.1556372549019605</td>\n",
       "        <td>9.07713058108653</td>\n",
       "    </tr>\n",
       "    <tr>\n",
       "        <td>Furnishings</td>\n",
       "        <td>13484.0</td>\n",
       "        <td>6.259270246217739</td>\n",
       "        <td>3.1248986099716802</td>\n",
       "    </tr>\n",
       "    <tr>\n",
       "        <td>Hankerchief</td>\n",
       "        <td>14608.0</td>\n",
       "        <td>14.361993428258488</td>\n",
       "        <td>3.385384077014707</td>\n",
       "    </tr>\n",
       "    <tr>\n",
       "        <td>Kurti</td>\n",
       "        <td>3361.0</td>\n",
       "        <td>5.38530199345433</td>\n",
       "        <td>0.7789071661313273</td>\n",
       "    </tr>\n",
       "    <tr>\n",
       "        <td>Leggings</td>\n",
       "        <td>2106.0</td>\n",
       "        <td>12.345679012345679</td>\n",
       "        <td>0.48806262775143566</td>\n",
       "    </tr>\n",
       "    <tr>\n",
       "        <td>Phones</td>\n",
       "        <td>46119.0</td>\n",
       "        <td>4.785446345324053</td>\n",
       "        <td>10.688015351029659</td>\n",
       "    </tr>\n",
       "    <tr>\n",
       "        <td>Printers</td>\n",
       "        <td>58252.0</td>\n",
       "        <td>10.238275080683925</td>\n",
       "        <td>13.499821553550156</td>\n",
       "    </tr>\n",
       "    <tr>\n",
       "        <td>Saree</td>\n",
       "        <td>53511.0</td>\n",
       "        <td>0.6578086748518996</td>\n",
       "        <td>12.401101269519028</td>\n",
       "    </tr>\n",
       "    <tr>\n",
       "        <td>Shirt</td>\n",
       "        <td>7555.0</td>\n",
       "        <td>14.970218398411648</td>\n",
       "        <td>1.7508609461833315</td>\n",
       "    </tr>\n",
       "    <tr>\n",
       "        <td>Skirt</td>\n",
       "        <td>1946.0</td>\n",
       "        <td>12.076053442959918</td>\n",
       "        <td>0.4509828459659515</td>\n",
       "    </tr>\n",
       "    <tr>\n",
       "        <td>Stole</td>\n",
       "        <td>18546.0</td>\n",
       "        <td>13.798123584600452</td>\n",
       "        <td>4.298010206209937</td>\n",
       "    </tr>\n",
       "    <tr>\n",
       "        <td>T-shirt</td>\n",
       "        <td>7382.0</td>\n",
       "        <td>20.31969655919805</td>\n",
       "        <td>1.710768432127777</td>\n",
       "    </tr>\n",
       "    <tr>\n",
       "        <td>Tables</td>\n",
       "        <td>22614.0</td>\n",
       "        <td>-17.736800212257894</td>\n",
       "        <td>5.240763658105872</td>\n",
       "    </tr>\n",
       "    <tr>\n",
       "        <td>Trousers</td>\n",
       "        <td>30039.0</td>\n",
       "        <td>9.47767901727754</td>\n",
       "        <td>6.961497281588498</td>\n",
       "    </tr>\n",
       "</table>"
      ],
      "text/plain": [
       "[('Accessories', 21728.0, 16.37978645066274, 5.035434366468753),\n",
       " ('Bookcases', 56861.0, 8.596401751639963, 13.177459200652605),\n",
       " ('Chairs', 34222.0, 1.6860499094149963, 7.93090182664275),\n",
       " ('Electronic Games', 39168.0, -3.1556372549019605, 9.07713058108653),\n",
       " ('Furnishings', 13484.0, 6.259270246217739, 3.1248986099716802),\n",
       " ('Hankerchief', 14608.0, 14.361993428258488, 3.385384077014707),\n",
       " ('Kurti', 3361.0, 5.38530199345433, 0.7789071661313273),\n",
       " ('Leggings', 2106.0, 12.345679012345679, 0.48806262775143566),\n",
       " ('Phones', 46119.0, 4.785446345324053, 10.688015351029659),\n",
       " ('Printers', 58252.0, 10.238275080683925, 13.499821553550156),\n",
       " ('Saree', 53511.0, 0.6578086748518996, 12.401101269519028),\n",
       " ('Shirt', 7555.0, 14.970218398411648, 1.7508609461833315),\n",
       " ('Skirt', 1946.0, 12.076053442959918, 0.4509828459659515),\n",
       " ('Stole', 18546.0, 13.798123584600452, 4.298010206209937),\n",
       " ('T-shirt', 7382.0, 20.31969655919805, 1.710768432127777),\n",
       " ('Tables', 22614.0, -17.736800212257894, 5.240763658105872),\n",
       " ('Trousers', 30039.0, 9.47767901727754, 6.961497281588498)]"
      ]
     },
     "execution_count": 20,
     "metadata": {},
     "output_type": "execute_result"
    }
   ],
   "source": [
    "%%sql\n",
    "\n",
    "WITH T1 AS\n",
    "\t(SELECT \"Sub-Category\" as sub_cat, SUM(Amount) as sub_sales\n",
    "\tFROM details\n",
    "\tGROUP BY \"Sub-Category\"),\n",
    "T2 AS\n",
    "\t(SELECT sub_cat as sub_cat, (profit / revenue) * 100 as margin\n",
    "\tFROM\n",
    "\t\t(SELECT \"sub-category\" as sub_cat, SUM(Amount) as revenue, SUM(Profit) as profit\n",
    "\t\tFROM details\n",
    "\t\tGROUP BY \"sub-category\")sub),\n",
    "T3 AS\n",
    "\t(SELECT SUM(Amount) as sales\n",
    "\tFROM details)\n",
    "\n",
    "SELECT T1.sub_cat as sub_category, T1.sub_sales as sales, t2.margin as margin, (t1.sub_sales / t3.sales) * 100 as proportion_of_sales\n",
    "FROM T1\n",
    "JOIN T2\n",
    "ON T1.sub_cat = T2.sub_cat\n",
    "JOIN T3;"
   ]
  },
  {
   "cell_type": "markdown",
   "metadata": {},
   "source": [
    "It looks like 15% of sales (tables and electronic games) actually have a negative margin. This has a significant impact on overall margin."
   ]
  },
  {
   "cell_type": "markdown",
   "metadata": {},
   "source": [
    "**What do we see in total sales over time?**"
   ]
  },
  {
   "cell_type": "code",
   "execution_count": 21,
   "metadata": {
    "scrolled": true
   },
   "outputs": [
    {
     "name": "stdout",
     "output_type": "stream",
     "text": [
      " * sqlite:////users/john/desktop/indian_ecommerce_data/list_of_orders.db\n",
      "Done.\n"
     ]
    },
    {
     "data": {
      "text/html": [
       "<table>\n",
       "    <tr>\n",
       "        <th>month</th>\n",
       "        <th>sales</th>\n",
       "    </tr>\n",
       "    <tr>\n",
       "        <td>2018-04</td>\n",
       "        <td>32726.0</td>\n",
       "    </tr>\n",
       "    <tr>\n",
       "        <td>2018-05</td>\n",
       "        <td>28545.0</td>\n",
       "    </tr>\n",
       "    <tr>\n",
       "        <td>2018-06</td>\n",
       "        <td>23658.0</td>\n",
       "    </tr>\n",
       "    <tr>\n",
       "        <td>2018-07</td>\n",
       "        <td>12966.0</td>\n",
       "    </tr>\n",
       "    <tr>\n",
       "        <td>2018-08</td>\n",
       "        <td>30899.0</td>\n",
       "    </tr>\n",
       "    <tr>\n",
       "        <td>2018-09</td>\n",
       "        <td>26628.0</td>\n",
       "    </tr>\n",
       "    <tr>\n",
       "        <td>2018-10</td>\n",
       "        <td>31615.0</td>\n",
       "    </tr>\n",
       "    <tr>\n",
       "        <td>2018-11</td>\n",
       "        <td>48086.0</td>\n",
       "    </tr>\n",
       "    <tr>\n",
       "        <td>2018-12</td>\n",
       "        <td>37579.0</td>\n",
       "    </tr>\n",
       "    <tr>\n",
       "        <td>2019-01</td>\n",
       "        <td>61439.0</td>\n",
       "    </tr>\n",
       "    <tr>\n",
       "        <td>2019-02</td>\n",
       "        <td>38424.0</td>\n",
       "    </tr>\n",
       "    <tr>\n",
       "        <td>2019-03</td>\n",
       "        <td>58937.0</td>\n",
       "    </tr>\n",
       "</table>"
      ],
      "text/plain": [
       "[('2018-04', 32726.0),\n",
       " ('2018-05', 28545.0),\n",
       " ('2018-06', 23658.0),\n",
       " ('2018-07', 12966.0),\n",
       " ('2018-08', 30899.0),\n",
       " ('2018-09', 26628.0),\n",
       " ('2018-10', 31615.0),\n",
       " ('2018-11', 48086.0),\n",
       " ('2018-12', 37579.0),\n",
       " ('2019-01', 61439.0),\n",
       " ('2019-02', 38424.0),\n",
       " ('2019-03', 58937.0)]"
      ]
     },
     "execution_count": 21,
     "metadata": {},
     "output_type": "execute_result"
    }
   ],
   "source": [
    "%%sql\n",
    "SELECT strftime(\"%Y-%m\", OrderDate) as month, SUM(Amount) as sales\n",
    "FROM orders\n",
    "JOIN details\n",
    "ON orders.OrderID = details.OrderID\n",
    "GROUP BY strftime(\"%Y-%m\", OrderDate)"
   ]
  },
  {
   "cell_type": "code",
   "execution_count": 22,
   "metadata": {},
   "outputs": [],
   "source": [
    "sales_time = _"
   ]
  },
  {
   "cell_type": "code",
   "execution_count": 23,
   "metadata": {},
   "outputs": [],
   "source": [
    "sales_time = pd.DataFrame(sales_time)"
   ]
  },
  {
   "cell_type": "code",
   "execution_count": 24,
   "metadata": {},
   "outputs": [],
   "source": [
    "sales_time.rename(columns = {0:'date',1:'sales'}, inplace=True)"
   ]
  },
  {
   "cell_type": "code",
   "execution_count": 25,
   "metadata": {
    "scrolled": true
   },
   "outputs": [
    {
     "data": {
      "image/png": "[encoded data removed]",
      "text/plain": [
       "<Figure size 1440x360 with 1 Axes>"
      ]
     },
     "metadata": {
      "needs_background": "light"
     },
     "output_type": "display_data"
    }
   ],
   "source": [
    "plt.figure(figsize = (20,5))\n",
    "ticks = sales_time['date'].values\n",
    "sb.lineplot(data=sales_time, x = 'date', y = 'sales', sort = False)\n",
    "plt.xticks(ticks);"
   ]
  },
  {
   "cell_type": "markdown",
   "metadata": {},
   "source": [
    "We see upward growth through to the end of the dataset with the exception of a dip in July of 2018."
   ]
  }
 ],
 "metadata": {
  "kernelspec": {
   "display_name": "Python 3",
   "language": "python",
   "name": "python3"
  },
  "language_info": {
   "codemirror_mode": {
    "name": "ipython",
    "version": 3
   },
   "file_extension": ".py",
   "mimetype": "text/x-python",
   "name": "python",
   "nbconvert_exporter": "python",
   "pygments_lexer": "ipython3",
   "version": "3.7.7"
  }
 },
 "nbformat": 4,
 "nbformat_minor": 4
}
