{
 "cells": [
  {
   "cell_type": "markdown",
   "metadata": {},
   "source": [
    "# Indian E-Commerce Data\n",
    "\n",
    "This project utilizes a basic dataset from an anonymous e-commerce company located in India. Three csv files are combined into a three table database file using DB Browser for SQLite. SQL queries are run in Jupyter via ipython-sql and query results are saved as variables for further analysis and visualization."
   ]
  },
  {
   "cell_type": "code",
   "execution_count": 1,
   "metadata": {},
   "outputs": [],
   "source": [
    "import numpy as np\n",
    "import pandas as pd\n",
    "import matplotlib.pyplot as plt\n",
    "import seaborn as sb\n",
    "import sqlite3 as sql"
   ]
  },
  {
   "cell_type": "markdown",
   "metadata": {},
   "source": [
    "## Data Cleaning\n",
    "\n",
    "Before I create the database file that I'll use in this project, I need do some cleaning operations. Two of the csv files included in the dataset contain date information that is not in the correct format for use in SQLite queries. I need to change the date formats so that I can utilize SQLite's strftime function. The date formats need to look like this: YYYY-MM-DD"
   ]
  },
  {
   "cell_type": "code",
   "execution_count": 35,
   "metadata": {},
   "outputs": [],
   "source": [
    "df = pd.read_csv('List of Orders.csv')"
   ]
  },
  {
   "cell_type": "code",
   "execution_count": 36,
   "metadata": {},
   "outputs": [
    {
     "data": {
      "text/html": [
       "<div>\n",
       "<style scoped>\n",
       "    .dataframe tbody tr th:only-of-type {\n",
       "        vertical-align: middle;\n",
       "    }\n",
       "\n",
       "    .dataframe tbody tr th {\n",
       "        vertical-align: top;\n",
       "    }\n",
       "\n",
       "    .dataframe thead th {\n",
       "        text-align: right;\n",
       "    }\n",
       "</style>\n",
       "<table border=\"1\" class=\"dataframe\">\n",
       "  <thead>\n",
       "    <tr style=\"text-align: right;\">\n",
       "      <th></th>\n",
       "      <th>Order ID</th>\n",
       "      <th>Order Date</th>\n",
       "      <th>CustomerName</th>\n",
       "      <th>State</th>\n",
       "      <th>City</th>\n",
       "    </tr>\n",
       "  </thead>\n",
       "  <tbody>\n",
       "    <tr>\n",
       "      <th>0</th>\n",
       "      <td>B-25601</td>\n",
       "      <td>01-04-2018</td>\n",
       "      <td>Bharat</td>\n",
       "      <td>Gujarat</td>\n",
       "      <td>Ahmedabad</td>\n",
       "    </tr>\n",
       "    <tr>\n",
       "      <th>1</th>\n",
       "      <td>B-25602</td>\n",
       "      <td>01-04-2018</td>\n",
       "      <td>Pearl</td>\n",
       "      <td>Maharashtra</td>\n",
       "      <td>Pune</td>\n",
       "    </tr>\n",
       "    <tr>\n",
       "      <th>2</th>\n",
       "      <td>B-25603</td>\n",
       "      <td>03-04-2018</td>\n",
       "      <td>Jahan</td>\n",
       "      <td>Madhya Pradesh</td>\n",
       "      <td>Bhopal</td>\n",
       "    </tr>\n",
       "    <tr>\n",
       "      <th>3</th>\n",
       "      <td>B-25604</td>\n",
       "      <td>03-04-2018</td>\n",
       "      <td>Divsha</td>\n",
       "      <td>Rajasthan</td>\n",
       "      <td>Jaipur</td>\n",
       "    </tr>\n",
       "    <tr>\n",
       "      <th>4</th>\n",
       "      <td>B-25605</td>\n",
       "      <td>05-04-2018</td>\n",
       "      <td>Kasheen</td>\n",
       "      <td>West Bengal</td>\n",
       "      <td>Kolkata</td>\n",
       "    </tr>\n",
       "  </tbody>\n",
       "</table>\n",
       "</div>"
      ],
      "text/plain": [
       "  Order ID  Order Date CustomerName           State       City\n",
       "0  B-25601  01-04-2018       Bharat         Gujarat  Ahmedabad\n",
       "1  B-25602  01-04-2018        Pearl     Maharashtra       Pune\n",
       "2  B-25603  03-04-2018        Jahan  Madhya Pradesh     Bhopal\n",
       "3  B-25604  03-04-2018       Divsha       Rajasthan     Jaipur\n",
       "4  B-25605  05-04-2018      Kasheen     West Bengal    Kolkata"
      ]
     },
     "execution_count": 36,
     "metadata": {},
     "output_type": "execute_result"
    }
   ],
   "source": [
    "df.head()"
   ]
  },
  {
   "cell_type": "code",
   "execution_count": 37,
   "metadata": {},
   "outputs": [],
   "source": [
    "df['Order Date'] = df['Order Date'].str[-4:] + \"-\" + df['Order Date'].str[3:5] + \"-\" + df['Order Date'].str[:2]"
   ]
  },
  {
   "cell_type": "code",
   "execution_count": 38,
   "metadata": {},
   "outputs": [
    {
     "data": {
      "text/html": [
       "<div>\n",
       "<style scoped>\n",
       "    .dataframe tbody tr th:only-of-type {\n",
       "        vertical-align: middle;\n",
       "    }\n",
       "\n",
       "    .dataframe tbody tr th {\n",
       "        vertical-align: top;\n",
       "    }\n",
       "\n",
       "    .dataframe thead th {\n",
       "        text-align: right;\n",
       "    }\n",
       "</style>\n",
       "<table border=\"1\" class=\"dataframe\">\n",
       "  <thead>\n",
       "    <tr style=\"text-align: right;\">\n",
       "      <th></th>\n",
       "      <th>Order ID</th>\n",
       "      <th>Order Date</th>\n",
       "      <th>CustomerName</th>\n",
       "      <th>State</th>\n",
       "      <th>City</th>\n",
       "    </tr>\n",
       "  </thead>\n",
       "  <tbody>\n",
       "    <tr>\n",
       "      <th>0</th>\n",
       "      <td>B-25601</td>\n",
       "      <td>2018-04-01</td>\n",
       "      <td>Bharat</td>\n",
       "      <td>Gujarat</td>\n",
       "      <td>Ahmedabad</td>\n",
       "    </tr>\n",
       "    <tr>\n",
       "      <th>1</th>\n",
       "      <td>B-25602</td>\n",
       "      <td>2018-04-01</td>\n",
       "      <td>Pearl</td>\n",
       "      <td>Maharashtra</td>\n",
       "      <td>Pune</td>\n",
       "    </tr>\n",
       "    <tr>\n",
       "      <th>2</th>\n",
       "      <td>B-25603</td>\n",
       "      <td>2018-04-03</td>\n",
       "      <td>Jahan</td>\n",
       "      <td>Madhya Pradesh</td>\n",
       "      <td>Bhopal</td>\n",
       "    </tr>\n",
       "    <tr>\n",
       "      <th>3</th>\n",
       "      <td>B-25604</td>\n",
       "      <td>2018-04-03</td>\n",
       "      <td>Divsha</td>\n",
       "      <td>Rajasthan</td>\n",
       "      <td>Jaipur</td>\n",
       "    </tr>\n",
       "    <tr>\n",
       "      <th>4</th>\n",
       "      <td>B-25605</td>\n",
       "      <td>2018-04-05</td>\n",
       "      <td>Kasheen</td>\n",
       "      <td>West Bengal</td>\n",
       "      <td>Kolkata</td>\n",
       "    </tr>\n",
       "  </tbody>\n",
       "</table>\n",
       "</div>"
      ],
      "text/plain": [
       "  Order ID  Order Date CustomerName           State       City\n",
       "0  B-25601  2018-04-01       Bharat         Gujarat  Ahmedabad\n",
       "1  B-25602  2018-04-01        Pearl     Maharashtra       Pune\n",
       "2  B-25603  2018-04-03        Jahan  Madhya Pradesh     Bhopal\n",
       "3  B-25604  2018-04-03       Divsha       Rajasthan     Jaipur\n",
       "4  B-25605  2018-04-05      Kasheen     West Bengal    Kolkata"
      ]
     },
     "execution_count": 38,
     "metadata": {},
     "output_type": "execute_result"
    }
   ],
   "source": [
    "df.head()"
   ]
  },
  {
   "cell_type": "code",
   "execution_count": 40,
   "metadata": {},
   "outputs": [],
   "source": [
    "df.to_csv('list_of_orders_clean.csv', index = False)"
   ]
  },
  {
   "cell_type": "code",
   "execution_count": 32,
   "metadata": {},
   "outputs": [],
   "source": [
    "targets = pd.read_csv('Sales target.csv')"
   ]
  },
  {
   "cell_type": "code",
   "execution_count": 33,
   "metadata": {},
   "outputs": [
    {
     "data": {
      "text/html": [
       "<div>\n",
       "<style scoped>\n",
       "    .dataframe tbody tr th:only-of-type {\n",
       "        vertical-align: middle;\n",
       "    }\n",
       "\n",
       "    .dataframe tbody tr th {\n",
       "        vertical-align: top;\n",
       "    }\n",
       "\n",
       "    .dataframe thead th {\n",
       "        text-align: right;\n",
       "    }\n",
       "</style>\n",
       "<table border=\"1\" class=\"dataframe\">\n",
       "  <thead>\n",
       "    <tr style=\"text-align: right;\">\n",
       "      <th></th>\n",
       "      <th>Month of Order Date</th>\n",
       "      <th>Category</th>\n",
       "      <th>Target</th>\n",
       "    </tr>\n",
       "  </thead>\n",
       "  <tbody>\n",
       "    <tr>\n",
       "      <th>0</th>\n",
       "      <td>Apr-18</td>\n",
       "      <td>Furniture</td>\n",
       "      <td>10400.0</td>\n",
       "    </tr>\n",
       "    <tr>\n",
       "      <th>1</th>\n",
       "      <td>May-18</td>\n",
       "      <td>Furniture</td>\n",
       "      <td>10500.0</td>\n",
       "    </tr>\n",
       "    <tr>\n",
       "      <th>2</th>\n",
       "      <td>Jun-18</td>\n",
       "      <td>Furniture</td>\n",
       "      <td>10600.0</td>\n",
       "    </tr>\n",
       "    <tr>\n",
       "      <th>3</th>\n",
       "      <td>Jul-18</td>\n",
       "      <td>Furniture</td>\n",
       "      <td>10800.0</td>\n",
       "    </tr>\n",
       "    <tr>\n",
       "      <th>4</th>\n",
       "      <td>Aug-18</td>\n",
       "      <td>Furniture</td>\n",
       "      <td>10900.0</td>\n",
       "    </tr>\n",
       "  </tbody>\n",
       "</table>\n",
       "</div>"
      ],
      "text/plain": [
       "  Month of Order Date   Category   Target\n",
       "0              Apr-18  Furniture  10400.0\n",
       "1              May-18  Furniture  10500.0\n",
       "2              Jun-18  Furniture  10600.0\n",
       "3              Jul-18  Furniture  10800.0\n",
       "4              Aug-18  Furniture  10900.0"
      ]
     },
     "execution_count": 33,
     "metadata": {},
     "output_type": "execute_result"
    }
   ],
   "source": [
    "targets.head()"
   ]
  },
  {
   "cell_type": "code",
   "execution_count": 11,
   "metadata": {},
   "outputs": [],
   "source": [
    "months = {'Jan':'01',\n",
    "         'Feb':'02',\n",
    "         'Mar':'03',\n",
    "         'Apr':'04',\n",
    "         'May':'05',\n",
    "         'Jun':'06',\n",
    "         'Jul':'07',\n",
    "         'Aug':'08',\n",
    "         'Sep':'09',\n",
    "         'Oct':'10',\n",
    "         'Nov':'11',\n",
    "         'Dec':'12'}"
   ]
  },
  {
   "cell_type": "code",
   "execution_count": 12,
   "metadata": {},
   "outputs": [],
   "source": [
    "targets['Month of Order Date'] = targets['Month of Order Date'].replace(months, regex=True)"
   ]
  },
  {
   "cell_type": "code",
   "execution_count": 13,
   "metadata": {},
   "outputs": [],
   "source": [
    "targets['Month of Order Date'] = \"20\" + targets['Month of Order Date'].str[-2:] + \"-\" + targets['Month of Order Date'].str[:3] + \"01\""
   ]
  },
  {
   "cell_type": "code",
   "execution_count": 27,
   "metadata": {
    "scrolled": true
   },
   "outputs": [
    {
     "data": {
      "text/html": [
       "<div>\n",
       "<style scoped>\n",
       "    .dataframe tbody tr th:only-of-type {\n",
       "        vertical-align: middle;\n",
       "    }\n",
       "\n",
       "    .dataframe tbody tr th {\n",
       "        vertical-align: top;\n",
       "    }\n",
       "\n",
       "    .dataframe thead th {\n",
       "        text-align: right;\n",
       "    }\n",
       "</style>\n",
       "<table border=\"1\" class=\"dataframe\">\n",
       "  <thead>\n",
       "    <tr style=\"text-align: right;\">\n",
       "      <th></th>\n",
       "      <th>Month of Order Date</th>\n",
       "      <th>Category</th>\n",
       "      <th>Target</th>\n",
       "    </tr>\n",
       "  </thead>\n",
       "  <tbody>\n",
       "    <tr>\n",
       "      <th>0</th>\n",
       "      <td>2018-04-01</td>\n",
       "      <td>Furniture</td>\n",
       "      <td>10400.0</td>\n",
       "    </tr>\n",
       "    <tr>\n",
       "      <th>1</th>\n",
       "      <td>2018-05-01</td>\n",
       "      <td>Furniture</td>\n",
       "      <td>10500.0</td>\n",
       "    </tr>\n",
       "    <tr>\n",
       "      <th>2</th>\n",
       "      <td>2018-06-01</td>\n",
       "      <td>Furniture</td>\n",
       "      <td>10600.0</td>\n",
       "    </tr>\n",
       "    <tr>\n",
       "      <th>3</th>\n",
       "      <td>2018-07-01</td>\n",
       "      <td>Furniture</td>\n",
       "      <td>10800.0</td>\n",
       "    </tr>\n",
       "    <tr>\n",
       "      <th>4</th>\n",
       "      <td>2018-08-01</td>\n",
       "      <td>Furniture</td>\n",
       "      <td>10900.0</td>\n",
       "    </tr>\n",
       "  </tbody>\n",
       "</table>\n",
       "</div>"
      ],
      "text/plain": [
       "  Month of Order Date   Category   Target\n",
       "0          2018-04-01  Furniture  10400.0\n",
       "1          2018-05-01  Furniture  10500.0\n",
       "2          2018-06-01  Furniture  10600.0\n",
       "3          2018-07-01  Furniture  10800.0\n",
       "4          2018-08-01  Furniture  10900.0"
      ]
     },
     "execution_count": 27,
     "metadata": {},
     "output_type": "execute_result"
    }
   ],
   "source": [
    "targets.head()"
   ]
  },
  {
   "cell_type": "code",
   "execution_count": 15,
   "metadata": {},
   "outputs": [],
   "source": [
    "targets.to_csv('sales_target_clean.csv', index=False)"
   ]
  },
  {
   "cell_type": "markdown",
   "metadata": {},
   "source": [
    "## Create Database and Connect to Database File\n",
    "\n",
    "Now that I have the date formats ready for SQLite, the csv files are combined into a database file externally using DB Browser for SQLite, and I can load SQL into the notebook and connect to the database file I've created"
   ]
  },
  {
   "cell_type": "code",
   "execution_count": 2,
   "metadata": {},
   "outputs": [],
   "source": [
    "%load_ext sql"
   ]
  },
  {
   "cell_type": "code",
   "execution_count": 3,
   "metadata": {},
   "outputs": [],
   "source": [
    "%sql sqlite:////users/john/desktop/indian_ecommerce_data/list_of_orders.db"
   ]
  },
  {
   "cell_type": "code",
   "execution_count": 41,
   "metadata": {},
   "outputs": [
    {
     "name": "stdout",
     "output_type": "stream",
     "text": [
      " * sqlite:////users/john/desktop/indian_ecommerce_data/list_of_orders.db\n",
      "Done.\n"
     ]
    },
    {
     "data": {
      "text/html": [
       "<table>\n",
       "    <tr>\n",
       "        <th>OrderID</th>\n",
       "        <th>OrderDate</th>\n",
       "        <th>CustomerName</th>\n",
       "        <th>State</th>\n",
       "        <th>City</th>\n",
       "    </tr>\n",
       "    <tr>\n",
       "        <td>B-25601</td>\n",
       "        <td>2018-04-01</td>\n",
       "        <td>Bharat</td>\n",
       "        <td>Gujarat</td>\n",
       "        <td>Ahmedabad</td>\n",
       "    </tr>\n",
       "    <tr>\n",
       "        <td>B-25602</td>\n",
       "        <td>2018-04-01</td>\n",
       "        <td>Pearl</td>\n",
       "        <td>Maharashtra</td>\n",
       "        <td>Pune</td>\n",
       "    </tr>\n",
       "    <tr>\n",
       "        <td>B-25603</td>\n",
       "        <td>2018-04-03</td>\n",
       "        <td>Jahan</td>\n",
       "        <td>Madhya Pradesh</td>\n",
       "        <td>Bhopal</td>\n",
       "    </tr>\n",
       "    <tr>\n",
       "        <td>B-25604</td>\n",
       "        <td>2018-04-03</td>\n",
       "        <td>Divsha</td>\n",
       "        <td>Rajasthan</td>\n",
       "        <td>Jaipur</td>\n",
       "    </tr>\n",
       "    <tr>\n",
       "        <td>B-25605</td>\n",
       "        <td>2018-04-05</td>\n",
       "        <td>Kasheen</td>\n",
       "        <td>West Bengal</td>\n",
       "        <td>Kolkata</td>\n",
       "    </tr>\n",
       "</table>"
      ],
      "text/plain": [
       "[('B-25601', '2018-04-01', 'Bharat', 'Gujarat', 'Ahmedabad'),\n",
       " ('B-25602', '2018-04-01', 'Pearl', 'Maharashtra', 'Pune'),\n",
       " ('B-25603', '2018-04-03', 'Jahan', 'Madhya Pradesh', 'Bhopal'),\n",
       " ('B-25604', '2018-04-03', 'Divsha', 'Rajasthan', 'Jaipur'),\n",
       " ('B-25605', '2018-04-05', 'Kasheen', 'West Bengal', 'Kolkata')]"
      ]
     },
     "execution_count": 41,
     "metadata": {},
     "output_type": "execute_result"
    }
   ],
   "source": [
    "%%sql\n",
    "\n",
    "SELECT *\n",
    "FROM orders\n",
    "LIMIT 5;"
   ]
  },
  {
   "cell_type": "code",
   "execution_count": 29,
   "metadata": {},
   "outputs": [
    {
     "name": "stdout",
     "output_type": "stream",
     "text": [
      " * sqlite:////users/john/desktop/indian_ecommerce_data/list_of_orders.db\n",
      "Done.\n"
     ]
    },
    {
     "data": {
      "text/html": [
       "<table>\n",
       "    <tr>\n",
       "        <th>OrderID</th>\n",
       "        <th>Amount</th>\n",
       "        <th>Profit</th>\n",
       "        <th>Quantity</th>\n",
       "        <th>Category</th>\n",
       "        <th>Sub-Category</th>\n",
       "    </tr>\n",
       "    <tr>\n",
       "        <td>B-25601</td>\n",
       "        <td>1275.0</td>\n",
       "        <td>-1148.0</td>\n",
       "        <td>7</td>\n",
       "        <td>Furniture</td>\n",
       "        <td>Bookcases</td>\n",
       "    </tr>\n",
       "    <tr>\n",
       "        <td>B-25601</td>\n",
       "        <td>66.0</td>\n",
       "        <td>-12.0</td>\n",
       "        <td>5</td>\n",
       "        <td>Clothing</td>\n",
       "        <td>Stole</td>\n",
       "    </tr>\n",
       "    <tr>\n",
       "        <td>B-25601</td>\n",
       "        <td>8.0</td>\n",
       "        <td>-2.0</td>\n",
       "        <td>3</td>\n",
       "        <td>Clothing</td>\n",
       "        <td>Hankerchief</td>\n",
       "    </tr>\n",
       "    <tr>\n",
       "        <td>B-25601</td>\n",
       "        <td>80.0</td>\n",
       "        <td>-56.0</td>\n",
       "        <td>4</td>\n",
       "        <td>Electronics</td>\n",
       "        <td>Electronic Games</td>\n",
       "    </tr>\n",
       "    <tr>\n",
       "        <td>B-25602</td>\n",
       "        <td>168.0</td>\n",
       "        <td>-111.0</td>\n",
       "        <td>2</td>\n",
       "        <td>Electronics</td>\n",
       "        <td>Phones</td>\n",
       "    </tr>\n",
       "</table>"
      ],
      "text/plain": [
       "[('B-25601', 1275.0, -1148.0, 7, 'Furniture', 'Bookcases'),\n",
       " ('B-25601', 66.0, -12.0, 5, 'Clothing', 'Stole'),\n",
       " ('B-25601', 8.0, -2.0, 3, 'Clothing', 'Hankerchief'),\n",
       " ('B-25601', 80.0, -56.0, 4, 'Electronics', 'Electronic Games'),\n",
       " ('B-25602', 168.0, -111.0, 2, 'Electronics', 'Phones')]"
      ]
     },
     "execution_count": 29,
     "metadata": {},
     "output_type": "execute_result"
    }
   ],
   "source": [
    "%%sql\n",
    "\n",
    "SELECT *\n",
    "FROM details\n",
    "LIMIT 5;"
   ]
  },
  {
   "cell_type": "code",
   "execution_count": 28,
   "metadata": {
    "scrolled": true
   },
   "outputs": [
    {
     "name": "stdout",
     "output_type": "stream",
     "text": [
      " * sqlite:////users/john/desktop/indian_ecommerce_data/list_of_orders.db\n",
      "Done.\n"
     ]
    },
    {
     "data": {
      "text/html": [
       "<table>\n",
       "    <tr>\n",
       "        <th>MonthofOrderDate</th>\n",
       "        <th>Category</th>\n",
       "        <th>Target</th>\n",
       "    </tr>\n",
       "    <tr>\n",
       "        <td>2018-04-01</td>\n",
       "        <td>Furniture</td>\n",
       "        <td>10400.0</td>\n",
       "    </tr>\n",
       "    <tr>\n",
       "        <td>2018-05-01</td>\n",
       "        <td>Furniture</td>\n",
       "        <td>10500.0</td>\n",
       "    </tr>\n",
       "    <tr>\n",
       "        <td>2018-06-01</td>\n",
       "        <td>Furniture</td>\n",
       "        <td>10600.0</td>\n",
       "    </tr>\n",
       "    <tr>\n",
       "        <td>2018-07-01</td>\n",
       "        <td>Furniture</td>\n",
       "        <td>10800.0</td>\n",
       "    </tr>\n",
       "    <tr>\n",
       "        <td>2018-08-01</td>\n",
       "        <td>Furniture</td>\n",
       "        <td>10900.0</td>\n",
       "    </tr>\n",
       "</table>"
      ],
      "text/plain": [
       "[('2018-04-01', 'Furniture', 10400.0),\n",
       " ('2018-05-01', 'Furniture', 10500.0),\n",
       " ('2018-06-01', 'Furniture', 10600.0),\n",
       " ('2018-07-01', 'Furniture', 10800.0),\n",
       " ('2018-08-01', 'Furniture', 10900.0)]"
      ]
     },
     "execution_count": 28,
     "metadata": {},
     "output_type": "execute_result"
    }
   ],
   "source": [
    "%%sql\n",
    "\n",
    "SELECT *\n",
    "FROM targets\n",
    "LIMIT 5;"
   ]
  }
 ],
 "metadata": {
  "kernelspec": {
   "display_name": "Python 3",
   "language": "python",
   "name": "python3"
  },
  "language_info": {
   "codemirror_mode": {
    "name": "ipython",
    "version": 3
   },
   "file_extension": ".py",
   "mimetype": "text/x-python",
   "name": "python",
   "nbconvert_exporter": "python",
   "pygments_lexer": "ipython3",
   "version": "3.7.7"
  }
 },
 "nbformat": 4,
 "nbformat_minor": 4
}
